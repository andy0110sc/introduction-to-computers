{
  "nbformat": 4,
  "nbformat_minor": 0,
  "metadata": {
    "colab": {
      "name": "0511.ipynb",
      "provenance": [],
      "authorship_tag": "ABX9TyP0YRgVR1jmNBdPgTEN7rHx",
      "include_colab_link": true
    },
    "kernelspec": {
      "name": "python3",
      "display_name": "Python 3"
    },
    "language_info": {
      "name": "python"
    }
  },
  "cells": [
    {
      "cell_type": "markdown",
      "metadata": {
        "id": "view-in-github",
        "colab_type": "text"
      },
      "source": [
        "<a href=\"https://colab.research.google.com/github/andy0110sc/introduction-to-computers/blob/main/0511.ipynb\" target=\"_parent\"><img src=\"https://colab.research.google.com/assets/colab-badge.svg\" alt=\"Open In Colab\"/></a>"
      ]
    },
    {
      "cell_type": "code",
      "execution_count": null,
      "metadata": {
        "id": "bV-orhw9hHCJ",
        "colab": {
          "base_uri": "https://localhost:8080/"
        },
        "outputId": "68cd1d26-32f2-4d6f-ae18-abfa0ed5c4a0"
      },
      "outputs": [
        {
          "output_type": "stream",
          "name": "stdout",
          "text": [
            "請輸入你的體溫36.5\n",
            "體溫正常! \n"
          ]
        }
      ],
      "source": [
        "temp = float(input(\"請輸入你的體溫\"))\n",
        "if temp >=37.5:\n",
        "  print(\"體溫過高! \")\n",
        "elif temp >=37 and temp <37.4:\n",
        "  print(\"體溫略高! \")\n",
        "elif temp >=34 and temp <36.9:\n",
        "  print(\"體溫正常! \")  \n",
        "else:\n",
        "  print(\"體溫異常，請重新測量! \")"
      ]
    },
    {
      "cell_type": "code",
      "source": [
        "money = int(input(\"請輸入金額:\"))\n",
        "if (money >= 10000):\n",
        "  if (money >= 100000):\n",
        "    print(\"打八折\",money *0.8, end=\"元\\n\")\n",
        "  elif (money >= 50000):\n",
        "    print(\"打八五折\",money *0.85, end=\"元\\n\")\n",
        "  elif (money >= 30000):\n",
        "    print(\"打九折\",money *0.9, end=\"元\\n\")\n",
        "  else:\n",
        "    print(\"打九五折\",money *0.95, end=\"元\\n\")\n",
        "else:\n",
        "  print(\"沒打折\",money, end=\"元\\n\")"
      ],
      "metadata": {
        "id": "9zB81F0XhNJX",
        "colab": {
          "base_uri": "https://localhost:8080/"
        },
        "outputId": "283b44c9-31a7-430e-95b6-424ec2f727ab"
      },
      "execution_count": null,
      "outputs": [
        {
          "output_type": "stream",
          "name": "stdout",
          "text": [
            "請輸入金額:20000\n",
            "打九五折 19000.0元\n"
          ]
        }
      ]
    },
    {
      "cell_type": "code",
      "source": [
        "score = int(input(\"請輸入成績\"))\n",
        "if (score >= 90):\n",
        "  print(\"A\")\n",
        "elif (score >=80 and score <89):\n",
        "  print(\"B\")\n",
        "elif (score >=70 and score <79):\n",
        "  print(\"C\")\n",
        "elif (score >=60 and score <69):\n",
        "  print(\"D\")\n",
        "else:\n",
        "  print(\"E\")  "
      ],
      "metadata": {
        "id": "R74RFOrNhNRi",
        "colab": {
          "base_uri": "https://localhost:8080/"
        },
        "outputId": "de6024ff-fd4b-491a-b7ab-aaf3f8afe67b"
      },
      "execution_count": null,
      "outputs": [
        {
          "output_type": "stream",
          "name": "stdout",
          "text": [
            "請輸入成績90\n",
            "A\n"
          ]
        }
      ]
    },
    {
      "cell_type": "code",
      "source": [
        "month = int(input(\"請輸入月份:\"))\n",
        "if ( 3<= month <=5):\n",
        "    print(\"春天\")\n",
        "elif ( 6<= month <=8):\n",
        "    print(\"夏天\")\n",
        "elif ( 9<= month <=11):\n",
        "    print(\"秋天\")\n",
        "elif (month ==12 or month == 1 or month == 2):  \n",
        "    print(\"冬天\")\n",
        "else:\n",
        "  print(\"月份不在範圍內\") "
      ],
      "metadata": {
        "id": "FwOmLwtfhNLl",
        "colab": {
          "base_uri": "https://localhost:8080/"
        },
        "outputId": "08c1304b-c231-4bbb-a35e-d38bf963c5e1"
      },
      "execution_count": 9,
      "outputs": [
        {
          "output_type": "stream",
          "name": "stdout",
          "text": [
            "請輸入月份:12\n",
            "冬天\n"
          ]
        }
      ]
    },
    {
      "cell_type": "code",
      "source": [
        "tax = int(input(\"請輸入今年收入淨額:\"))\n",
        "if (tax >= 300000):\n",
        "  if (tax >= 2000000):\n",
        "    print(\"付稅金額\",tax *0.3, end=\"元\\n\")\n",
        "  elif (tax >= 1000000):\n",
        "    print(\"付稅金額\",tax *0.21, end=\"元\\n\")\n",
        "  elif (tax >= 600000):\n",
        "    print(\"付稅金額\",tax *0.13, end=\"元\\n\")\n",
        "  elif (tax >= 300000):\n",
        "    print(\"付稅金額\",tax *0.06, end=\"元\\n\")\n",
        "else:\n",
        "  print(\"付稅金額\",tax *0, end=\"元\\n\")"
      ],
      "metadata": {
        "id": "U34UGST5hNNv",
        "colab": {
          "base_uri": "https://localhost:8080/"
        },
        "outputId": "c1cf028c-6881-4390-b317-3d634d78be15"
      },
      "execution_count": null,
      "outputs": [
        {
          "output_type": "stream",
          "name": "stdout",
          "text": [
            "請輸入今年收入淨額:150000\n",
            "付稅金額 0元\n"
          ]
        }
      ]
    }
  ]
}