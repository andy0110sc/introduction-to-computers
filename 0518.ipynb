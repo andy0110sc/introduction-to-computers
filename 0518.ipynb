{
  "nbformat": 4,
  "nbformat_minor": 0,
  "metadata": {
    "colab": {
      "name": "0518.ipynb",
      "provenance": [],
      "authorship_tag": "ABX9TyPmjmT0glUPYI+TYG6xMPjq",
      "include_colab_link": true
    },
    "kernelspec": {
      "name": "python3",
      "display_name": "Python 3"
    },
    "language_info": {
      "name": "python"
    }
  },
  "cells": [
    {
      "cell_type": "markdown",
      "metadata": {
        "id": "view-in-github",
        "colab_type": "text"
      },
      "source": [
        "<a href=\"https://colab.research.google.com/github/andy0110sc/introduction-to-computers/blob/main/0518.ipynb\" target=\"_parent\"><img src=\"https://colab.research.google.com/assets/colab-badge.svg\" alt=\"Open In Colab\"/></a>"
      ]
    },
    {
      "cell_type": "code",
      "source": [
        "i=range(5)"
      ],
      "metadata": {
        "id": "301otfaTi0R3"
      },
      "execution_count": null,
      "outputs": []
    },
    {
      "cell_type": "code",
      "source": [
        "print(type(i))"
      ],
      "metadata": {
        "colab": {
          "base_uri": "https://localhost:8080/"
        },
        "id": "sEJKA65-i0UY",
        "outputId": "a057dbdf-13f0-4044-d2ad-47f553ec6822"
      },
      "execution_count": null,
      "outputs": [
        {
          "output_type": "stream",
          "name": "stdout",
          "text": [
            "<class 'range'>\n"
          ]
        }
      ]
    },
    {
      "cell_type": "code",
      "source": [
        "print(i)"
      ],
      "metadata": {
        "colab": {
          "base_uri": "https://localhost:8080/"
        },
        "id": "skqgijyoi0W4",
        "outputId": "83a19348-3b45-4192-d72b-2567380b8adf"
      },
      "execution_count": null,
      "outputs": [
        {
          "output_type": "stream",
          "name": "stdout",
          "text": [
            "range(0, 5)\n"
          ]
        }
      ]
    },
    {
      "cell_type": "code",
      "source": [
        "print(list(i))"
      ],
      "metadata": {
        "colab": {
          "base_uri": "https://localhost:8080/"
        },
        "id": "DabJRJtRj-9P",
        "outputId": "a240ff13-0177-4eb8-e384-1a2838476523"
      },
      "execution_count": null,
      "outputs": [
        {
          "output_type": "stream",
          "name": "stdout",
          "text": [
            "[0, 1, 2, 3, 4]\n"
          ]
        }
      ]
    },
    {
      "cell_type": "code",
      "source": [
        "j= range(10)\n",
        "print(type(j))\n",
        "print(j)\n",
        "print(list(j))"
      ],
      "metadata": {
        "colab": {
          "base_uri": "https://localhost:8080/"
        },
        "id": "DTmjzBk2kKE1",
        "outputId": "b5e47a17-dac2-46f1-ca9a-d8e90f0d0754"
      },
      "execution_count": null,
      "outputs": [
        {
          "output_type": "stream",
          "name": "stdout",
          "text": [
            "<class 'range'>\n",
            "range(0, 10)\n",
            "[0, 1, 2, 3, 4, 5, 6, 7, 8, 9]\n"
          ]
        }
      ]
    },
    {
      "cell_type": "code",
      "source": [
        "a = range(3,8)\n",
        "print(list(a))"
      ],
      "metadata": {
        "colab": {
          "base_uri": "https://localhost:8080/"
        },
        "id": "5n1NloNTkKNO",
        "outputId": "d605675c-ea53-44f0-d656-1a5225167cbc"
      },
      "execution_count": null,
      "outputs": [
        {
          "output_type": "stream",
          "name": "stdout",
          "text": [
            "[3, 4, 5, 6, 7]\n"
          ]
        }
      ]
    },
    {
      "cell_type": "code",
      "source": [
        "b = range(-2,4)\n",
        "print(list(b))"
      ],
      "metadata": {
        "colab": {
          "base_uri": "https://localhost:8080/"
        },
        "id": "jkAwYoUKkkbT",
        "outputId": "d331c2e9-474c-47ba-ec02-cab96a0e9a57"
      },
      "execution_count": null,
      "outputs": [
        {
          "output_type": "stream",
          "name": "stdout",
          "text": [
            "[-2, -1, 0, 1, 2, 3]\n"
          ]
        }
      ]
    },
    {
      "cell_type": "code",
      "source": [
        "c = range(3,8,1) \n",
        "print(list(c))"
      ],
      "metadata": {
        "colab": {
          "base_uri": "https://localhost:8080/"
        },
        "id": "_F8hYEAFkkjy",
        "outputId": "41461937-df5e-48b2-d268-ab891981c13a"
      },
      "execution_count": null,
      "outputs": [
        {
          "output_type": "stream",
          "name": "stdout",
          "text": [
            "[3, 4, 5, 6, 7]\n"
          ]
        }
      ]
    },
    {
      "cell_type": "code",
      "source": [
        "d = range(3,8,2) \n",
        "print(list(d))"
      ],
      "metadata": {
        "colab": {
          "base_uri": "https://localhost:8080/"
        },
        "id": "XXcwJ_ekl96C",
        "outputId": "53f46c6d-14c0-4f85-9092-d209addf6ecb"
      },
      "execution_count": null,
      "outputs": [
        {
          "output_type": "stream",
          "name": "stdout",
          "text": [
            "[3, 5, 7]\n"
          ]
        }
      ]
    },
    {
      "cell_type": "code",
      "source": [
        "e = range(8,3,-1) \n",
        "print(list(e))"
      ],
      "metadata": {
        "colab": {
          "base_uri": "https://localhost:8080/"
        },
        "id": "hMKIDldUl-CR",
        "outputId": "bc150d9f-d8f4-42ef-dd88-89c978a46872"
      },
      "execution_count": null,
      "outputs": [
        {
          "output_type": "stream",
          "name": "stdout",
          "text": [
            "[8, 7, 6, 5, 4]\n"
          ]
        }
      ]
    },
    {
      "cell_type": "code",
      "source": [
        "f = range(9) \n",
        "print(list(f))"
      ],
      "metadata": {
        "colab": {
          "base_uri": "https://localhost:8080/"
        },
        "id": "LqO1KBZYnMnq",
        "outputId": "e56e9349-39f0-451e-cf4a-f297ad1633de"
      },
      "execution_count": null,
      "outputs": [
        {
          "output_type": "stream",
          "name": "stdout",
          "text": [
            "[0, 1, 2, 3, 4, 5, 6, 7, 8]\n"
          ]
        }
      ]
    },
    {
      "cell_type": "code",
      "source": [
        "g = range(1,10) \n",
        "print(list(g))"
      ],
      "metadata": {
        "colab": {
          "base_uri": "https://localhost:8080/"
        },
        "id": "yHgZtjmZnMxR",
        "outputId": "7e61c416-e01e-4e82-a625-4f247675a275"
      },
      "execution_count": null,
      "outputs": [
        {
          "output_type": "stream",
          "name": "stdout",
          "text": [
            "[1, 2, 3, 4, 5, 6, 7, 8, 9]\n"
          ]
        }
      ]
    },
    {
      "cell_type": "code",
      "source": [
        "h = range(1,10,2) \n",
        "print(list(h))"
      ],
      "metadata": {
        "colab": {
          "base_uri": "https://localhost:8080/"
        },
        "id": "WuQfcZ4onM3N",
        "outputId": "366f60bf-8b38-4e8f-b6c6-072b02169ce9"
      },
      "execution_count": null,
      "outputs": [
        {
          "output_type": "stream",
          "name": "stdout",
          "text": [
            "[1, 3, 5, 7, 9]\n"
          ]
        }
      ]
    },
    {
      "cell_type": "code",
      "source": [
        "i = range(10,1,-2) \n",
        "print(list(i))"
      ],
      "metadata": {
        "colab": {
          "base_uri": "https://localhost:8080/"
        },
        "id": "NxcW7TVKnNRD",
        "outputId": "2f112672-b4ac-4c0a-da92-191a902ab7bd"
      },
      "execution_count": null,
      "outputs": [
        {
          "output_type": "stream",
          "name": "stdout",
          "text": [
            "[10, 8, 6, 4, 2]\n"
          ]
        }
      ]
    },
    {
      "cell_type": "code",
      "source": [
        "for n in range(3):\n",
        "  print(n,end =\",\")\n"
      ],
      "metadata": {
        "colab": {
          "base_uri": "https://localhost:8080/"
        },
        "id": "N5RGbz57oaIa",
        "outputId": "e5f8c5e5-1d5b-49c8-ef09-d63ed9dbf57f"
      },
      "execution_count": null,
      "outputs": [
        {
          "output_type": "stream",
          "name": "stdout",
          "text": [
            "0,1,2,"
          ]
        }
      ]
    },
    {
      "cell_type": "code",
      "source": [
        "for n in range(10):\n",
        "  print(n,end =\",\")"
      ],
      "metadata": {
        "colab": {
          "base_uri": "https://localhost:8080/"
        },
        "id": "LPufh8DcoaSC",
        "outputId": "ee22f4b6-02aa-4296-932c-8df48587a10c"
      },
      "execution_count": null,
      "outputs": [
        {
          "output_type": "stream",
          "name": "stdout",
          "text": [
            "0,1,2,3,4,5,6,7,8,9,"
          ]
        }
      ]
    },
    {
      "cell_type": "code",
      "source": [
        "test = int(input(\"請輸入一個正整數:\"))\n",
        "for m in range (1, test+1):\n",
        "  print(m,end = \" \")"
      ],
      "metadata": {
        "colab": {
          "base_uri": "https://localhost:8080/"
        },
        "id": "jk_dEmtGoaZq",
        "outputId": "10a8f2a1-473e-461f-9788-b57cc1b122a5"
      },
      "execution_count": null,
      "outputs": [
        {
          "output_type": "stream",
          "name": "stdout",
          "text": [
            "請輸入一個正整數:5\n",
            "1 2 3 4 5 "
          ]
        }
      ]
    },
    {
      "cell_type": "code",
      "source": [
        "test = int(input(\"請輸入一個正整數:\"))\n",
        "for m in range (1, test+1):\n",
        "  print(m,end = \" \")"
      ],
      "metadata": {
        "colab": {
          "base_uri": "https://localhost:8080/"
        },
        "id": "XksIlHHwt3Y-",
        "outputId": "f9e9e0de-b243-4ee5-92e4-3eb4cb3a4258"
      },
      "execution_count": null,
      "outputs": [
        {
          "output_type": "stream",
          "name": "stdout",
          "text": [
            "請輸入一個正整數:12\n",
            "1 2 3 4 5 6 7 8 9 10 11 12 "
          ]
        }
      ]
    },
    {
      "cell_type": "code",
      "source": [
        "test = int(input(\"請輸入一個正整數:\"))\n",
        "for m in range (1, test+1, 2):\n",
        "  print(m,end = \" \")"
      ],
      "metadata": {
        "colab": {
          "base_uri": "https://localhost:8080/"
        },
        "id": "Yz7S5dGNt3o0",
        "outputId": "0a3305ca-558f-48aa-9414-8240d1176167"
      },
      "execution_count": null,
      "outputs": [
        {
          "output_type": "stream",
          "name": "stdout",
          "text": [
            "請輸入一個正整數:10\n",
            "1 3 5 7 9 "
          ]
        }
      ]
    },
    {
      "cell_type": "code",
      "source": [
        "sum = 0\n",
        "for n in range(3):\n",
        "  sum= sum+n\n",
        "print(sum)"
      ],
      "metadata": {
        "colab": {
          "base_uri": "https://localhost:8080/"
        },
        "id": "EDo_I76duhTF",
        "outputId": "8e9e88cb-cd46-49a5-a77d-73623f3ea1f0"
      },
      "execution_count": null,
      "outputs": [
        {
          "output_type": "stream",
          "name": "stdout",
          "text": [
            "3\n"
          ]
        }
      ]
    },
    {
      "cell_type": "code",
      "source": [
        "sum = 0\n",
        "a = int(input(\"請輸入一個正整數:\"))\n",
        "for n in range(1,a+1):\n",
        "  sum = sum+n\n",
        "print(\"1到\",m,\"的整數和為:\" ,sum)"
      ],
      "metadata": {
        "colab": {
          "base_uri": "https://localhost:8080/"
        },
        "id": "vJqw2EAhuhb2",
        "outputId": "977b77dc-a48c-40a0-c78c-2f34dd1b5877"
      },
      "execution_count": 17,
      "outputs": [
        {
          "output_type": "stream",
          "name": "stdout",
          "text": [
            "請輸入一個正整數:10\n",
            "1到 10 的整數和為: 55\n"
          ]
        }
      ]
    },
    {
      "cell_type": "code",
      "source": [
        "sum = 0\n",
        "b = int(input(\"請輸入一個正整數:\"))\n",
        "for m in range(1,b+1,1):\n",
        "  sum = sum+m\n",
        "  print(\"1到\",m,\"的整數和為:\" ,sum)\n",
        "\n"
      ],
      "metadata": {
        "colab": {
          "base_uri": "https://localhost:8080/"
        },
        "id": "SLAPGj9Al3e3",
        "outputId": "3783bd51-537a-4d5b-ef2f-016a3ac1fc85"
      },
      "execution_count": 18,
      "outputs": [
        {
          "output_type": "stream",
          "name": "stdout",
          "text": [
            "請輸入一個正整數:50\n",
            "1到 1 的整數和為: 1\n",
            "1到 2 的整數和為: 3\n",
            "1到 3 的整數和為: 6\n",
            "1到 4 的整數和為: 10\n",
            "1到 5 的整數和為: 15\n",
            "1到 6 的整數和為: 21\n",
            "1到 7 的整數和為: 28\n",
            "1到 8 的整數和為: 36\n",
            "1到 9 的整數和為: 45\n",
            "1到 10 的整數和為: 55\n",
            "1到 11 的整數和為: 66\n",
            "1到 12 的整數和為: 78\n",
            "1到 13 的整數和為: 91\n",
            "1到 14 的整數和為: 105\n",
            "1到 15 的整數和為: 120\n",
            "1到 16 的整數和為: 136\n",
            "1到 17 的整數和為: 153\n",
            "1到 18 的整數和為: 171\n",
            "1到 19 的整數和為: 190\n",
            "1到 20 的整數和為: 210\n",
            "1到 21 的整數和為: 231\n",
            "1到 22 的整數和為: 253\n",
            "1到 23 的整數和為: 276\n",
            "1到 24 的整數和為: 300\n",
            "1到 25 的整數和為: 325\n",
            "1到 26 的整數和為: 351\n",
            "1到 27 的整數和為: 378\n",
            "1到 28 的整數和為: 406\n",
            "1到 29 的整數和為: 435\n",
            "1到 30 的整數和為: 465\n",
            "1到 31 的整數和為: 496\n",
            "1到 32 的整數和為: 528\n",
            "1到 33 的整數和為: 561\n",
            "1到 34 的整數和為: 595\n",
            "1到 35 的整數和為: 630\n",
            "1到 36 的整數和為: 666\n",
            "1到 37 的整數和為: 703\n",
            "1到 38 的整數和為: 741\n",
            "1到 39 的整數和為: 780\n",
            "1到 40 的整數和為: 820\n",
            "1到 41 的整數和為: 861\n",
            "1到 42 的整數和為: 903\n",
            "1到 43 的整數和為: 946\n",
            "1到 44 的整數和為: 990\n",
            "1到 45 的整數和為: 1035\n",
            "1到 46 的整數和為: 1081\n",
            "1到 47 的整數和為: 1128\n",
            "1到 48 的整數和為: 1176\n",
            "1到 49 的整數和為: 1225\n",
            "1到 50 的整數和為: 1275\n"
          ]
        }
      ]
    },
    {
      "cell_type": "code",
      "source": [
        "sum = 0\n",
        "c = int(input(\"請輸入一個正整數:\"))\n",
        "for i in range(1,c+1,1):\n",
        "  sum = sum+i\n",
        "print(\"1到%d的整數和為:%d\" % (i,sum))"
      ],
      "metadata": {
        "colab": {
          "base_uri": "https://localhost:8080/"
        },
        "id": "-fcrdwJbGJb-",
        "outputId": "d2275885-f288-4e6d-f8af-5e74be6ec95a"
      },
      "execution_count": 21,
      "outputs": [
        {
          "output_type": "stream",
          "name": "stdout",
          "text": [
            "請輸入一個正整數:100\n",
            "1到100的整數和為:5050\n"
          ]
        }
      ]
    }
  ]
}