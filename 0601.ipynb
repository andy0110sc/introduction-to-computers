{
  "nbformat": 4,
  "nbformat_minor": 0,
  "metadata": {
    "colab": {
      "name": "0601.ipynb",
      "provenance": [],
      "authorship_tag": "ABX9TyMiahlW7s+7TCFU0eWyYeXR",
      "include_colab_link": true
    },
    "kernelspec": {
      "name": "python3",
      "display_name": "Python 3"
    },
    "language_info": {
      "name": "python"
    }
  },
  "cells": [
    {
      "cell_type": "markdown",
      "metadata": {
        "id": "view-in-github",
        "colab_type": "text"
      },
      "source": [
        "<a href=\"https://colab.research.google.com/github/andy0110sc/introduction-to-computers/blob/main/0601.ipynb\" target=\"_parent\"><img src=\"https://colab.research.google.com/assets/colab-badge.svg\" alt=\"Open In Colab\"/></a>"
      ]
    },
    {
      "cell_type": "markdown",
      "source": [
        "九九乘法表"
      ],
      "metadata": {
        "id": "7dOq9zUjpCHD"
      }
    },
    {
      "cell_type": "code",
      "execution_count": null,
      "metadata": {
        "colab": {
          "base_uri": "https://localhost:8080/"
        },
        "id": "SO4H6GP-nXjw",
        "outputId": "d856c439-4903-46e5-fb39-25636bd4dc2a"
      },
      "outputs": [
        {
          "output_type": "stream",
          "name": "stdout",
          "text": [
            "2*1= 2 2*2= 4 2*3= 6 2*4= 8 2*5=10 2*6=12 2*7=14 2*8=16 2*9=18 \n",
            "3*1= 3 3*2= 6 3*3= 9 3*4=12 3*5=15 3*6=18 3*7=21 3*8=24 3*9=27 \n",
            "4*1= 4 4*2= 8 4*3=12 4*4=16 4*5=20 4*6=24 4*7=28 4*8=32 4*9=36 \n",
            "5*1= 5 5*2=10 5*3=15 5*4=20 5*5=25 5*6=30 5*7=35 5*8=40 5*9=45 \n",
            "6*1= 6 6*2=12 6*3=18 6*4=24 6*5=30 6*6=36 6*7=42 6*8=48 6*9=54 \n",
            "7*1= 7 7*2=14 7*3=21 7*4=28 7*5=35 7*6=42 7*7=49 7*8=56 7*9=63 \n",
            "8*1= 8 8*2=16 8*3=24 8*4=32 8*5=40 8*6=48 8*7=56 8*8=64 8*9=72 \n",
            "9*1= 9 9*2=18 9*3=27 9*4=36 9*5=45 9*6=54 9*7=63 9*8=72 9*9=81 \n"
          ]
        }
      ],
      "source": [
        "for i in range(2,10):\n",
        "  for j in range(1,10):\n",
        "   product = i*j\n",
        "   print(\"%d*%d=%2d \" % (i,j,product), end=\"\")\n",
        "  print()"
      ]
    },
    {
      "cell_type": "markdown",
      "source": [
        "最小公倍數"
      ],
      "metadata": {
        "id": "-rUXegWFpJoZ"
      }
    },
    {
      "cell_type": "code",
      "source": [
        "a = int(input(\"請輸入a的值: \")) \n",
        "b = int(input(\"請輸入b的值: \")) \n",
        "\n",
        "maxno = a * b\n",
        "for i in range(1,maxno+1):\n",
        "  if(i % a == 0 and i % b ==0 ):\n",
        "    break\n",
        "print(\"%d和 %d的最小公倍數 =%d\" %(a,b,i))\n",
        "\n"
      ],
      "metadata": {
        "id": "qBXFBqEJnaoo",
        "colab": {
          "base_uri": "https://localhost:8080/"
        },
        "outputId": "05245954-4255-4bbb-9746-3471fb3c2c9c"
      },
      "execution_count": null,
      "outputs": [
        {
          "output_type": "stream",
          "name": "stdout",
          "text": [
            "請輸入a的值: 5\n",
            "請輸入b的值: 4\n",
            "5和 4的最小公倍數 =20\n"
          ]
        }
      ]
    },
    {
      "cell_type": "markdown",
      "source": [
        "數列排除5"
      ],
      "metadata": {
        "id": "HmoddCCQrGr4"
      }
    },
    {
      "cell_type": "code",
      "source": [
        "n = int(input(\"請輸入一個正整數\"))\n",
        "for i in range(1, n+1):\n",
        "  if i % 5 ==0:\n",
        "    continue\n",
        "  print(i, end=\" \")"
      ],
      "metadata": {
        "id": "Yil2R2-wnaq6",
        "colab": {
          "base_uri": "https://localhost:8080/"
        },
        "outputId": "69fd669c-adfa-4492-abcb-2fe33c89dcfb"
      },
      "execution_count": null,
      "outputs": [
        {
          "output_type": "stream",
          "name": "stdout",
          "text": [
            "請輸入一個正整數25\n",
            "1 2 3 4 6 7 8 9 11 12 13 14 16 17 18 19 21 22 23 24 "
          ]
        }
      ]
    },
    {
      "cell_type": "code",
      "source": [
        "total = n = 0\n",
        "while(n < 10):\n",
        "  total += n\n",
        "  n += 1\n",
        "print(total)"
      ],
      "metadata": {
        "id": "zzkZR370naz2",
        "colab": {
          "base_uri": "https://localhost:8080/"
        },
        "outputId": "35da62b3-9bce-4b1b-b9ad-aebafd736acc"
      },
      "execution_count": null,
      "outputs": [
        {
          "output_type": "stream",
          "name": "stdout",
          "text": [
            "45\n"
          ]
        }
      ]
    },
    {
      "cell_type": "code",
      "source": [
        "total = n = 0\n",
        "while n <= 10:\n",
        "  total += n\n",
        "  n += 1\n",
        "print(total)"
      ],
      "metadata": {
        "colab": {
          "base_uri": "https://localhost:8080/"
        },
        "id": "Eig8LvB6tMIu",
        "outputId": "740d66c5-339b-4dd7-d380-e9bb9f3856bc"
      },
      "execution_count": null,
      "outputs": [
        {
          "output_type": "stream",
          "name": "stdout",
          "text": [
            "55\n"
          ]
        }
      ]
    },
    {
      "cell_type": "code",
      "source": [
        "total = n = 0\n",
        "while(n <= 10):\n",
        "  total += n\n",
        "print(total)"
      ],
      "metadata": {
        "colab": {
          "base_uri": "https://localhost:8080/",
          "height": 225
        },
        "id": "wax_vrhLtMLH",
        "outputId": "28fb886a-d8cc-49bd-8a85-352fe5e0534b"
      },
      "execution_count": null,
      "outputs": [
        {
          "output_type": "error",
          "ename": "KeyboardInterrupt",
          "evalue": "ignored",
          "traceback": [
            "\u001b[0;31m---------------------------------------------------------------------------\u001b[0m",
            "\u001b[0;31mKeyboardInterrupt\u001b[0m                         Traceback (most recent call last)",
            "\u001b[0;32m<ipython-input-14-e5ac82a6cfcf>\u001b[0m in \u001b[0;36m<module>\u001b[0;34m()\u001b[0m\n\u001b[1;32m      1\u001b[0m \u001b[0mtotal\u001b[0m \u001b[0;34m=\u001b[0m \u001b[0mn\u001b[0m \u001b[0;34m=\u001b[0m \u001b[0;36m0\u001b[0m\u001b[0;34m\u001b[0m\u001b[0;34m\u001b[0m\u001b[0m\n\u001b[1;32m      2\u001b[0m \u001b[0;32mwhile\u001b[0m\u001b[0;34m(\u001b[0m\u001b[0mn\u001b[0m \u001b[0;34m<=\u001b[0m \u001b[0;36m10\u001b[0m\u001b[0;34m)\u001b[0m\u001b[0;34m:\u001b[0m\u001b[0;34m\u001b[0m\u001b[0;34m\u001b[0m\u001b[0m\n\u001b[0;32m----> 3\u001b[0;31m   \u001b[0mtotal\u001b[0m \u001b[0;34m+=\u001b[0m \u001b[0mn\u001b[0m\u001b[0;34m\u001b[0m\u001b[0;34m\u001b[0m\u001b[0m\n\u001b[0m\u001b[1;32m      4\u001b[0m \u001b[0mprint\u001b[0m\u001b[0;34m(\u001b[0m\u001b[0mtotal\u001b[0m\u001b[0;34m)\u001b[0m\u001b[0;34m\u001b[0m\u001b[0;34m\u001b[0m\u001b[0m\n",
            "\u001b[0;31mKeyboardInterrupt\u001b[0m: "
          ]
        }
      ]
    },
    {
      "cell_type": "code",
      "source": [
        "total = i =1\n",
        "n = int(input(\"請輸入正整數n的值: \"))\n",
        "while i<=n:\n",
        "  total *= i\n",
        "  i+=1\n",
        "print(\"%d!=%d\" % (n, total))"
      ],
      "metadata": {
        "colab": {
          "base_uri": "https://localhost:8080/"
        },
        "id": "bH9mnFBYvbKi",
        "outputId": "45a70fd3-221b-4c51-e26b-6849bb427e5d"
      },
      "execution_count": null,
      "outputs": [
        {
          "output_type": "stream",
          "name": "stdout",
          "text": [
            "請輸入正整數n的值: 100\n",
            "100!=93326215443944152681699238856266700490715968264381621468592963895217599993229915608941463976156518286253697920827223758251185210916864000000000000000000000000\n"
          ]
        }
      ]
    },
    {
      "cell_type": "code",
      "source": [
        "i = 0\n",
        "even_sum = 0\n",
        "odd_sum = 0\n",
        "while i<=50:\n",
        "  if i%2 == 0:\n",
        "    even_sum += i\n",
        "  else:\n",
        "    odd_sum += i  \n",
        "  i+=1\n",
        "print(\"0~50的偶數結果是%d\" %even_sum)\n",
        "print(\"0~50的奇數結果是%d\" %odd_sum)"
      ],
      "metadata": {
        "colab": {
          "base_uri": "https://localhost:8080/"
        },
        "id": "bFMpBBB8vbav",
        "outputId": "ad1a6e46-07b2-4628-cd84-dc39e891b204"
      },
      "execution_count": null,
      "outputs": [
        {
          "output_type": "stream",
          "name": "stdout",
          "text": [
            "0~50的偶數結果是650\n",
            "0~50的奇數結果是625\n"
          ]
        }
      ]
    },
    {
      "cell_type": "code",
      "source": [
        "n = int(input(\"請輸入一個正整數\"))\n",
        "for i in range(n,0,-1):\n",
        "  for j in range(i,0,-1):\n",
        "    print(\"*\",end=\"\")\n",
        "  print()"
      ],
      "metadata": {
        "colab": {
          "base_uri": "https://localhost:8080/"
        },
        "id": "AQs2gfsjxAVm",
        "outputId": "36ac376c-c28d-4ea2-a901-6fd3aa06d204"
      },
      "execution_count": null,
      "outputs": [
        {
          "output_type": "stream",
          "name": "stdout",
          "text": [
            "請輸入一個正整數5\n",
            "*****\n",
            "****\n",
            "***\n",
            "**\n",
            "*\n"
          ]
        }
      ]
    },
    {
      "cell_type": "code",
      "source": [
        "sum = 0\n",
        "for i in range (1,101):\n",
        "  if (i%3 ==0 or i%7 ==0):\n",
        "    sum +=i\n",
        "print(\"數值1~100中，所有是3或7倍數的數之總和 =\",str(sum),end=\" \")"
      ],
      "metadata": {
        "colab": {
          "base_uri": "https://localhost:8080/"
        },
        "id": "3JQueHhoxAbO",
        "outputId": "72a3d716-4c85-4395-b70a-74c946da0801"
      },
      "execution_count": null,
      "outputs": [
        {
          "output_type": "stream",
          "name": "stdout",
          "text": [
            "數值1~100中，所有是3或7倍數的數之總和 = 2208 "
          ]
        }
      ]
    },
    {
      "cell_type": "code",
      "source": [
        "n = int(input(\"請輸入一個正整數:\"))\n",
        "for i in range(2, n):\n",
        "  if n % i == 0 :\n",
        "    print(n \"的因數有%d\", %d)\n",
        "    print(str(n)+ \"不是質數\")\n",
        "    break\n",
        "  else :\n",
        "    print(n\" 的因數有%d\", %d)\n",
        "    print(str(n)+ \"是質數\")  "
      ],
      "metadata": {
        "colab": {
          "base_uri": "https://localhost:8080/",
          "height": 135
        },
        "id": "HBkv00wNxAhD",
        "outputId": "37c06ecc-e705-40fc-a654-9d86fb2c8835"
      },
      "execution_count": 8,
      "outputs": [
        {
          "output_type": "error",
          "ename": "SyntaxError",
          "evalue": "ignored",
          "traceback": [
            "\u001b[0;36m  File \u001b[0;32m\"<ipython-input-8-ba9c9c936d64>\"\u001b[0;36m, line \u001b[0;32m4\u001b[0m\n\u001b[0;31m    print(n \"的因數有%d\", %d)\u001b[0m\n\u001b[0m                   ^\u001b[0m\n\u001b[0;31mSyntaxError\u001b[0m\u001b[0;31m:\u001b[0m invalid syntax\n"
          ]
        }
      ]
    },
    {
      "cell_type": "code",
      "source": [
        "n = int(input(\"請輸入一個正整數:\"))\n",
        "i = 2\n",
        "while i <= n\n",
        "for i in range(2, n):\n",
        "  if i % n == 0:\n",
        "    print(i \"的因數有\", end=\" \" )"
      ],
      "metadata": {
        "id": "UB8ykJEyIlfd"
      },
      "execution_count": null,
      "outputs": []
    }
  ]
}